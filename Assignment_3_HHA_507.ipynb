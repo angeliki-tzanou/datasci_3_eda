{
  "nbformat": 4,
  "nbformat_minor": 0,
  "metadata": {
    "colab": {
      "provenance": [],
      "authorship_tag": "ABX9TyOkONiOsQFrKiEUTe1n6i5C",
      "include_colab_link": true
    },
    "kernelspec": {
      "name": "python3",
      "display_name": "Python 3"
    },
    "language_info": {
      "name": "python"
    }
  },
  "cells": [
    {
      "cell_type": "markdown",
      "metadata": {
        "id": "view-in-github",
        "colab_type": "text"
      },
      "source": [
        "<a href=\"https://colab.research.google.com/github/angeliki-tzanou/datasci_3_eda/blob/main/Assignment_3_HHA_507.ipynb\" target=\"_parent\"><img src=\"https://colab.research.google.com/assets/colab-badge.svg\" alt=\"Open In Colab\"/></a>"
      ]
    },
    {
      "cell_type": "markdown",
      "source": [
        "#Assignment #3- HHA 507- Exploratory Data Analysis (EDA)"
      ],
      "metadata": {
        "id": "IJw8wX63f-Kk"
      }
    },
    {
      "cell_type": "markdown",
      "source": [
        "# **Univariate Analysis:**"
      ],
      "metadata": {
        "id": "wTXnShFzgEiD"
      }
    },
    {
      "cell_type": "markdown",
      "source": [
        "Importing packages:"
      ],
      "metadata": {
        "id": "TLyrSNcOmUgx"
      }
    },
    {
      "cell_type": "code",
      "execution_count": 1,
      "metadata": {
        "id": "8FZtT_q9VzVl"
      },
      "outputs": [],
      "source": [
        "import pandas as pd"
      ]
    },
    {
      "cell_type": "code",
      "source": [
        "import numpy as np"
      ],
      "metadata": {
        "id": "hIAsXFhkkFFO"
      },
      "execution_count": 2,
      "outputs": []
    },
    {
      "cell_type": "code",
      "source": [
        "import matplotlib.pyplot as plt"
      ],
      "metadata": {
        "id": "v45-y12dmLAV"
      },
      "execution_count": 8,
      "outputs": []
    },
    {
      "cell_type": "code",
      "source": [
        "from scipy.stats import skew, kurtosis, shapiro"
      ],
      "metadata": {
        "id": "XLIK3W1CmPSe"
      },
      "execution_count": 9,
      "outputs": []
    },
    {
      "cell_type": "markdown",
      "source": [
        "Loading CSV data file:"
      ],
      "metadata": {
        "id": "fHADdxczlNLb"
      }
    },
    {
      "cell_type": "code",
      "source": [
        "df_hcdiab = pd.read_csv('Healthcare-Diabetes.csv')"
      ],
      "metadata": {
        "id": "ifd9pUHjlPsd"
      },
      "execution_count": 5,
      "outputs": []
    },
    {
      "cell_type": "markdown",
      "source": [
        "Looking at the shape of the data & showing first 10 rows of data info:"
      ],
      "metadata": {
        "id": "6z4RWfnDlpyf"
      }
    },
    {
      "cell_type": "code",
      "source": [
        "df_hcdiab.shape"
      ],
      "metadata": {
        "colab": {
          "base_uri": "https://localhost:8080/"
        },
        "id": "o9wt1nUnlkS_",
        "outputId": "b1803522-f0c4-4032-d70f-4467d5c0e9db"
      },
      "execution_count": 6,
      "outputs": [
        {
          "output_type": "execute_result",
          "data": {
            "text/plain": [
              "(2768, 10)"
            ]
          },
          "metadata": {},
          "execution_count": 6
        }
      ]
    },
    {
      "cell_type": "code",
      "source": [
        "df_hcdiab.columns"
      ],
      "metadata": {
        "colab": {
          "base_uri": "https://localhost:8080/"
        },
        "id": "2-p3_hZImaIs",
        "outputId": "3fa931d3-d51b-421f-8da1-263bd4d052c4"
      },
      "execution_count": 10,
      "outputs": [
        {
          "output_type": "execute_result",
          "data": {
            "text/plain": [
              "Index(['Id', 'Pregnancies', 'Glucose', 'BloodPressure', 'SkinThickness',\n",
              "       'Insulin', 'BMI', 'DiabetesPedigreeFunction', 'Age', 'Outcome'],\n",
              "      dtype='object')"
            ]
          },
          "metadata": {},
          "execution_count": 10
        }
      ]
    },
    {
      "cell_type": "code",
      "source": [
        "df_hcdiab.head(10)"
      ],
      "metadata": {
        "colab": {
          "base_uri": "https://localhost:8080/",
          "height": 383
        },
        "id": "nUbq1dK1lxNc",
        "outputId": "4d82c300-08b3-4652-b4e9-9fc8e30c00e8"
      },
      "execution_count": 7,
      "outputs": [
        {
          "output_type": "execute_result",
          "data": {
            "text/plain": [
              "   Id  Pregnancies  Glucose  BloodPressure  SkinThickness  Insulin   BMI  \\\n",
              "0   1            6      148             72             35        0  33.6   \n",
              "1   2            1       85             66             29        0  26.6   \n",
              "2   3            8      183             64              0        0  23.3   \n",
              "3   4            1       89             66             23       94  28.1   \n",
              "4   5            0      137             40             35      168  43.1   \n",
              "5   6            5      116             74              0        0  25.6   \n",
              "6   7            3       78             50             32       88  31.0   \n",
              "7   8           10      115              0              0        0  35.3   \n",
              "8   9            2      197             70             45      543  30.5   \n",
              "9  10            8      125             96              0        0   0.0   \n",
              "\n",
              "   DiabetesPedigreeFunction  Age  Outcome  \n",
              "0                     0.627   50        1  \n",
              "1                     0.351   31        0  \n",
              "2                     0.672   32        1  \n",
              "3                     0.167   21        0  \n",
              "4                     2.288   33        1  \n",
              "5                     0.201   30        0  \n",
              "6                     0.248   26        1  \n",
              "7                     0.134   29        0  \n",
              "8                     0.158   53        1  \n",
              "9                     0.232   54        1  "
            ],
            "text/html": [
              "\n",
              "  <div id=\"df-d28be817-ec44-42d3-a30b-63ebb243e4e8\" class=\"colab-df-container\">\n",
              "    <div>\n",
              "<style scoped>\n",
              "    .dataframe tbody tr th:only-of-type {\n",
              "        vertical-align: middle;\n",
              "    }\n",
              "\n",
              "    .dataframe tbody tr th {\n",
              "        vertical-align: top;\n",
              "    }\n",
              "\n",
              "    .dataframe thead th {\n",
              "        text-align: right;\n",
              "    }\n",
              "</style>\n",
              "<table border=\"1\" class=\"dataframe\">\n",
              "  <thead>\n",
              "    <tr style=\"text-align: right;\">\n",
              "      <th></th>\n",
              "      <th>Id</th>\n",
              "      <th>Pregnancies</th>\n",
              "      <th>Glucose</th>\n",
              "      <th>BloodPressure</th>\n",
              "      <th>SkinThickness</th>\n",
              "      <th>Insulin</th>\n",
              "      <th>BMI</th>\n",
              "      <th>DiabetesPedigreeFunction</th>\n",
              "      <th>Age</th>\n",
              "      <th>Outcome</th>\n",
              "    </tr>\n",
              "  </thead>\n",
              "  <tbody>\n",
              "    <tr>\n",
              "      <th>0</th>\n",
              "      <td>1</td>\n",
              "      <td>6</td>\n",
              "      <td>148</td>\n",
              "      <td>72</td>\n",
              "      <td>35</td>\n",
              "      <td>0</td>\n",
              "      <td>33.6</td>\n",
              "      <td>0.627</td>\n",
              "      <td>50</td>\n",
              "      <td>1</td>\n",
              "    </tr>\n",
              "    <tr>\n",
              "      <th>1</th>\n",
              "      <td>2</td>\n",
              "      <td>1</td>\n",
              "      <td>85</td>\n",
              "      <td>66</td>\n",
              "      <td>29</td>\n",
              "      <td>0</td>\n",
              "      <td>26.6</td>\n",
              "      <td>0.351</td>\n",
              "      <td>31</td>\n",
              "      <td>0</td>\n",
              "    </tr>\n",
              "    <tr>\n",
              "      <th>2</th>\n",
              "      <td>3</td>\n",
              "      <td>8</td>\n",
              "      <td>183</td>\n",
              "      <td>64</td>\n",
              "      <td>0</td>\n",
              "      <td>0</td>\n",
              "      <td>23.3</td>\n",
              "      <td>0.672</td>\n",
              "      <td>32</td>\n",
              "      <td>1</td>\n",
              "    </tr>\n",
              "    <tr>\n",
              "      <th>3</th>\n",
              "      <td>4</td>\n",
              "      <td>1</td>\n",
              "      <td>89</td>\n",
              "      <td>66</td>\n",
              "      <td>23</td>\n",
              "      <td>94</td>\n",
              "      <td>28.1</td>\n",
              "      <td>0.167</td>\n",
              "      <td>21</td>\n",
              "      <td>0</td>\n",
              "    </tr>\n",
              "    <tr>\n",
              "      <th>4</th>\n",
              "      <td>5</td>\n",
              "      <td>0</td>\n",
              "      <td>137</td>\n",
              "      <td>40</td>\n",
              "      <td>35</td>\n",
              "      <td>168</td>\n",
              "      <td>43.1</td>\n",
              "      <td>2.288</td>\n",
              "      <td>33</td>\n",
              "      <td>1</td>\n",
              "    </tr>\n",
              "    <tr>\n",
              "      <th>5</th>\n",
              "      <td>6</td>\n",
              "      <td>5</td>\n",
              "      <td>116</td>\n",
              "      <td>74</td>\n",
              "      <td>0</td>\n",
              "      <td>0</td>\n",
              "      <td>25.6</td>\n",
              "      <td>0.201</td>\n",
              "      <td>30</td>\n",
              "      <td>0</td>\n",
              "    </tr>\n",
              "    <tr>\n",
              "      <th>6</th>\n",
              "      <td>7</td>\n",
              "      <td>3</td>\n",
              "      <td>78</td>\n",
              "      <td>50</td>\n",
              "      <td>32</td>\n",
              "      <td>88</td>\n",
              "      <td>31.0</td>\n",
              "      <td>0.248</td>\n",
              "      <td>26</td>\n",
              "      <td>1</td>\n",
              "    </tr>\n",
              "    <tr>\n",
              "      <th>7</th>\n",
              "      <td>8</td>\n",
              "      <td>10</td>\n",
              "      <td>115</td>\n",
              "      <td>0</td>\n",
              "      <td>0</td>\n",
              "      <td>0</td>\n",
              "      <td>35.3</td>\n",
              "      <td>0.134</td>\n",
              "      <td>29</td>\n",
              "      <td>0</td>\n",
              "    </tr>\n",
              "    <tr>\n",
              "      <th>8</th>\n",
              "      <td>9</td>\n",
              "      <td>2</td>\n",
              "      <td>197</td>\n",
              "      <td>70</td>\n",
              "      <td>45</td>\n",
              "      <td>543</td>\n",
              "      <td>30.5</td>\n",
              "      <td>0.158</td>\n",
              "      <td>53</td>\n",
              "      <td>1</td>\n",
              "    </tr>\n",
              "    <tr>\n",
              "      <th>9</th>\n",
              "      <td>10</td>\n",
              "      <td>8</td>\n",
              "      <td>125</td>\n",
              "      <td>96</td>\n",
              "      <td>0</td>\n",
              "      <td>0</td>\n",
              "      <td>0.0</td>\n",
              "      <td>0.232</td>\n",
              "      <td>54</td>\n",
              "      <td>1</td>\n",
              "    </tr>\n",
              "  </tbody>\n",
              "</table>\n",
              "</div>\n",
              "    <div class=\"colab-df-buttons\">\n",
              "\n",
              "  <div class=\"colab-df-container\">\n",
              "    <button class=\"colab-df-convert\" onclick=\"convertToInteractive('df-d28be817-ec44-42d3-a30b-63ebb243e4e8')\"\n",
              "            title=\"Convert this dataframe to an interactive table.\"\n",
              "            style=\"display:none;\">\n",
              "\n",
              "  <svg xmlns=\"http://www.w3.org/2000/svg\" height=\"24px\" viewBox=\"0 -960 960 960\">\n",
              "    <path d=\"M120-120v-720h720v720H120Zm60-500h600v-160H180v160Zm220 220h160v-160H400v160Zm0 220h160v-160H400v160ZM180-400h160v-160H180v160Zm440 0h160v-160H620v160ZM180-180h160v-160H180v160Zm440 0h160v-160H620v160Z\"/>\n",
              "  </svg>\n",
              "    </button>\n",
              "\n",
              "  <style>\n",
              "    .colab-df-container {\n",
              "      display:flex;\n",
              "      gap: 12px;\n",
              "    }\n",
              "\n",
              "    .colab-df-convert {\n",
              "      background-color: #E8F0FE;\n",
              "      border: none;\n",
              "      border-radius: 50%;\n",
              "      cursor: pointer;\n",
              "      display: none;\n",
              "      fill: #1967D2;\n",
              "      height: 32px;\n",
              "      padding: 0 0 0 0;\n",
              "      width: 32px;\n",
              "    }\n",
              "\n",
              "    .colab-df-convert:hover {\n",
              "      background-color: #E2EBFA;\n",
              "      box-shadow: 0px 1px 2px rgba(60, 64, 67, 0.3), 0px 1px 3px 1px rgba(60, 64, 67, 0.15);\n",
              "      fill: #174EA6;\n",
              "    }\n",
              "\n",
              "    .colab-df-buttons div {\n",
              "      margin-bottom: 4px;\n",
              "    }\n",
              "\n",
              "    [theme=dark] .colab-df-convert {\n",
              "      background-color: #3B4455;\n",
              "      fill: #D2E3FC;\n",
              "    }\n",
              "\n",
              "    [theme=dark] .colab-df-convert:hover {\n",
              "      background-color: #434B5C;\n",
              "      box-shadow: 0px 1px 3px 1px rgba(0, 0, 0, 0.15);\n",
              "      filter: drop-shadow(0px 1px 2px rgba(0, 0, 0, 0.3));\n",
              "      fill: #FFFFFF;\n",
              "    }\n",
              "  </style>\n",
              "\n",
              "    <script>\n",
              "      const buttonEl =\n",
              "        document.querySelector('#df-d28be817-ec44-42d3-a30b-63ebb243e4e8 button.colab-df-convert');\n",
              "      buttonEl.style.display =\n",
              "        google.colab.kernel.accessAllowed ? 'block' : 'none';\n",
              "\n",
              "      async function convertToInteractive(key) {\n",
              "        const element = document.querySelector('#df-d28be817-ec44-42d3-a30b-63ebb243e4e8');\n",
              "        const dataTable =\n",
              "          await google.colab.kernel.invokeFunction('convertToInteractive',\n",
              "                                                    [key], {});\n",
              "        if (!dataTable) return;\n",
              "\n",
              "        const docLinkHtml = 'Like what you see? Visit the ' +\n",
              "          '<a target=\"_blank\" href=https://colab.research.google.com/notebooks/data_table.ipynb>data table notebook</a>'\n",
              "          + ' to learn more about interactive tables.';\n",
              "        element.innerHTML = '';\n",
              "        dataTable['output_type'] = 'display_data';\n",
              "        await google.colab.output.renderOutput(dataTable, element);\n",
              "        const docLink = document.createElement('div');\n",
              "        docLink.innerHTML = docLinkHtml;\n",
              "        element.appendChild(docLink);\n",
              "      }\n",
              "    </script>\n",
              "  </div>\n",
              "\n",
              "\n",
              "<div id=\"df-69de7516-713c-4369-9544-7ba268c0f40e\">\n",
              "  <button class=\"colab-df-quickchart\" onclick=\"quickchart('df-69de7516-713c-4369-9544-7ba268c0f40e')\"\n",
              "            title=\"Suggest charts.\"\n",
              "            style=\"display:none;\">\n",
              "\n",
              "<svg xmlns=\"http://www.w3.org/2000/svg\" height=\"24px\"viewBox=\"0 0 24 24\"\n",
              "     width=\"24px\">\n",
              "    <g>\n",
              "        <path d=\"M19 3H5c-1.1 0-2 .9-2 2v14c0 1.1.9 2 2 2h14c1.1 0 2-.9 2-2V5c0-1.1-.9-2-2-2zM9 17H7v-7h2v7zm4 0h-2V7h2v10zm4 0h-2v-4h2v4z\"/>\n",
              "    </g>\n",
              "</svg>\n",
              "  </button>\n",
              "\n",
              "<style>\n",
              "  .colab-df-quickchart {\n",
              "      --bg-color: #E8F0FE;\n",
              "      --fill-color: #1967D2;\n",
              "      --hover-bg-color: #E2EBFA;\n",
              "      --hover-fill-color: #174EA6;\n",
              "      --disabled-fill-color: #AAA;\n",
              "      --disabled-bg-color: #DDD;\n",
              "  }\n",
              "\n",
              "  [theme=dark] .colab-df-quickchart {\n",
              "      --bg-color: #3B4455;\n",
              "      --fill-color: #D2E3FC;\n",
              "      --hover-bg-color: #434B5C;\n",
              "      --hover-fill-color: #FFFFFF;\n",
              "      --disabled-bg-color: #3B4455;\n",
              "      --disabled-fill-color: #666;\n",
              "  }\n",
              "\n",
              "  .colab-df-quickchart {\n",
              "    background-color: var(--bg-color);\n",
              "    border: none;\n",
              "    border-radius: 50%;\n",
              "    cursor: pointer;\n",
              "    display: none;\n",
              "    fill: var(--fill-color);\n",
              "    height: 32px;\n",
              "    padding: 0;\n",
              "    width: 32px;\n",
              "  }\n",
              "\n",
              "  .colab-df-quickchart:hover {\n",
              "    background-color: var(--hover-bg-color);\n",
              "    box-shadow: 0 1px 2px rgba(60, 64, 67, 0.3), 0 1px 3px 1px rgba(60, 64, 67, 0.15);\n",
              "    fill: var(--button-hover-fill-color);\n",
              "  }\n",
              "\n",
              "  .colab-df-quickchart-complete:disabled,\n",
              "  .colab-df-quickchart-complete:disabled:hover {\n",
              "    background-color: var(--disabled-bg-color);\n",
              "    fill: var(--disabled-fill-color);\n",
              "    box-shadow: none;\n",
              "  }\n",
              "\n",
              "  .colab-df-spinner {\n",
              "    border: 2px solid var(--fill-color);\n",
              "    border-color: transparent;\n",
              "    border-bottom-color: var(--fill-color);\n",
              "    animation:\n",
              "      spin 1s steps(1) infinite;\n",
              "  }\n",
              "\n",
              "  @keyframes spin {\n",
              "    0% {\n",
              "      border-color: transparent;\n",
              "      border-bottom-color: var(--fill-color);\n",
              "      border-left-color: var(--fill-color);\n",
              "    }\n",
              "    20% {\n",
              "      border-color: transparent;\n",
              "      border-left-color: var(--fill-color);\n",
              "      border-top-color: var(--fill-color);\n",
              "    }\n",
              "    30% {\n",
              "      border-color: transparent;\n",
              "      border-left-color: var(--fill-color);\n",
              "      border-top-color: var(--fill-color);\n",
              "      border-right-color: var(--fill-color);\n",
              "    }\n",
              "    40% {\n",
              "      border-color: transparent;\n",
              "      border-right-color: var(--fill-color);\n",
              "      border-top-color: var(--fill-color);\n",
              "    }\n",
              "    60% {\n",
              "      border-color: transparent;\n",
              "      border-right-color: var(--fill-color);\n",
              "    }\n",
              "    80% {\n",
              "      border-color: transparent;\n",
              "      border-right-color: var(--fill-color);\n",
              "      border-bottom-color: var(--fill-color);\n",
              "    }\n",
              "    90% {\n",
              "      border-color: transparent;\n",
              "      border-bottom-color: var(--fill-color);\n",
              "    }\n",
              "  }\n",
              "</style>\n",
              "\n",
              "  <script>\n",
              "    async function quickchart(key) {\n",
              "      const quickchartButtonEl =\n",
              "        document.querySelector('#' + key + ' button');\n",
              "      quickchartButtonEl.disabled = true;  // To prevent multiple clicks.\n",
              "      quickchartButtonEl.classList.add('colab-df-spinner');\n",
              "      try {\n",
              "        const charts = await google.colab.kernel.invokeFunction(\n",
              "            'suggestCharts', [key], {});\n",
              "      } catch (error) {\n",
              "        console.error('Error during call to suggestCharts:', error);\n",
              "      }\n",
              "      quickchartButtonEl.classList.remove('colab-df-spinner');\n",
              "      quickchartButtonEl.classList.add('colab-df-quickchart-complete');\n",
              "    }\n",
              "    (() => {\n",
              "      let quickchartButtonEl =\n",
              "        document.querySelector('#df-69de7516-713c-4369-9544-7ba268c0f40e button');\n",
              "      quickchartButtonEl.style.display =\n",
              "        google.colab.kernel.accessAllowed ? 'block' : 'none';\n",
              "    })();\n",
              "  </script>\n",
              "</div>\n",
              "    </div>\n",
              "  </div>\n"
            ]
          },
          "metadata": {},
          "execution_count": 7
        }
      ]
    },
    {
      "cell_type": "markdown",
      "source": [
        "## Performing univariable analysis manually"
      ],
      "metadata": {
        "id": "GPP1Nx2fmnWp"
      }
    },
    {
      "cell_type": "code",
      "source": [
        "df_hcdiab.columns"
      ],
      "metadata": {
        "colab": {
          "base_uri": "https://localhost:8080/"
        },
        "id": "6dq7fYf0ubk9",
        "outputId": "b0e51507-14b8-4809-a6c9-5beb3ac35996"
      },
      "execution_count": 11,
      "outputs": [
        {
          "output_type": "execute_result",
          "data": {
            "text/plain": [
              "Index(['Id', 'Pregnancies', 'Glucose', 'BloodPressure', 'SkinThickness',\n",
              "       'Insulin', 'BMI', 'DiabetesPedigreeFunction', 'Age', 'Outcome'],\n",
              "      dtype='object')"
            ]
          },
          "metadata": {},
          "execution_count": 11
        }
      ]
    },
    {
      "cell_type": "markdown",
      "source": [
        "### Calculating mean, median, mode:\n",
        "\n",
        "> of the number of pregnancies column\n",
        "\n"
      ],
      "metadata": {
        "id": "27Oz9tp7ms5v"
      }
    },
    {
      "cell_type": "code",
      "source": [
        "mean = df_hcdiab['Pregnancies'].mean()"
      ],
      "metadata": {
        "id": "Omlne6Hem8xp"
      },
      "execution_count": 14,
      "outputs": []
    },
    {
      "cell_type": "code",
      "source": [
        "median = df_hcdiab['Pregnancies'].median()"
      ],
      "metadata": {
        "id": "8xeXJdMjul4N"
      },
      "execution_count": 15,
      "outputs": []
    },
    {
      "cell_type": "code",
      "source": [
        "mode = df_hcdiab['Pregnancies'].mode().iloc[0]"
      ],
      "metadata": {
        "id": "s46yx4LnutIi"
      },
      "execution_count": 16,
      "outputs": []
    },
    {
      "cell_type": "markdown",
      "source": [
        "Depicting results in a simple form of the number of pregnancies column:"
      ],
      "metadata": {
        "id": "bpkzdw2Eu4T6"
      }
    },
    {
      "cell_type": "code",
      "source": [
        "print(\"Mean of Preg.=\", mean)\n",
        "print(\"Median of Preg.=\", median)\n",
        "print(\"Mode of Preg.=\", mode)"
      ],
      "metadata": {
        "colab": {
          "base_uri": "https://localhost:8080/"
        },
        "id": "o3LTzd4gu656",
        "outputId": "d80c28b8-2309-4b3b-cd62-a61f166309fd"
      },
      "execution_count": 20,
      "outputs": [
        {
          "output_type": "stream",
          "name": "stdout",
          "text": [
            "Mean of Preg.= 3.7427745664739884\n",
            "Median of Preg.= 3.0\n",
            "Mode of Preg.= 1\n"
          ]
        }
      ]
    },
    {
      "cell_type": "markdown",
      "source": [],
      "metadata": {
        "id": "EvPwMrnq6I7r"
      }
    },
    {
      "cell_type": "markdown",
      "source": [
        "\n",
        ">of the Glucose column:\n",
        "\n",
        "\n",
        "\n",
        "\n",
        "\n",
        "\n",
        "\n"
      ],
      "metadata": {
        "id": "3vDBQAj-vjBs"
      }
    },
    {
      "cell_type": "code",
      "source": [
        "mean = df_hcdiab['Glucose'].mean()\n",
        "median = df_hcdiab['Glucose'].median()\n",
        "mode = df_hcdiab['Glucose'].mode().iloc[0]"
      ],
      "metadata": {
        "id": "NeqpM-F7vpAK"
      },
      "execution_count": 21,
      "outputs": []
    },
    {
      "cell_type": "markdown",
      "source": [
        "Depicting results in a simple form of the Glucose level"
      ],
      "metadata": {
        "id": "C4N-v6ZawIk1"
      }
    },
    {
      "cell_type": "code",
      "source": [
        "print(\"Mean of Glucose=\", mean)\n",
        "print(\"Median of Glucose=\", median)\n",
        "print(\"Mode of Glucose=\", mode)"
      ],
      "metadata": {
        "colab": {
          "base_uri": "https://localhost:8080/"
        },
        "id": "ZvUR1nfJv_SG",
        "outputId": "ec3563b0-2dc9-4c67-fcf3-e5ef8b74957f"
      },
      "execution_count": 22,
      "outputs": [
        {
          "output_type": "stream",
          "name": "stdout",
          "text": [
            "Mean of Glucose= 121.10260115606937\n",
            "Median of Glucose= 117.0\n",
            "Mode of Glucose= 99\n"
          ]
        }
      ]
    },
    {
      "cell_type": "markdown",
      "source": [
        "\n",
        "\n",
        "> of the BloodPressure column:\n",
        "\n"
      ],
      "metadata": {
        "id": "Yt5OcTLBwkeV"
      }
    },
    {
      "cell_type": "code",
      "source": [
        "mean = df_hcdiab['BloodPressure'].mean()\n",
        "median = df_hcdiab['BloodPressure'].median()\n",
        "mode = df_hcdiab['BloodPressure'].mode().iloc[0]"
      ],
      "metadata": {
        "id": "7Ndf_xLAw4UY"
      },
      "execution_count": 24,
      "outputs": []
    },
    {
      "cell_type": "markdown",
      "source": [
        "Depicting results in a simple form of the Blood Pressure levels column:"
      ],
      "metadata": {
        "id": "BFUjg3haxEh6"
      }
    },
    {
      "cell_type": "code",
      "source": [
        "print(\"Mean of BP =\", mean)\n",
        "print(\"Median of BP =\", median)\n",
        "print(\"Mode of BP =\", mode)"
      ],
      "metadata": {
        "colab": {
          "base_uri": "https://localhost:8080/"
        },
        "id": "NeXOaqgSxOne",
        "outputId": "c9d6a69d-ff24-495d-9b90-8fef877b59e5"
      },
      "execution_count": 26,
      "outputs": [
        {
          "output_type": "stream",
          "name": "stdout",
          "text": [
            "Mean of BP = 69.13439306358381\n",
            "Median of BP = 72.0\n",
            "Mode of BP = 70\n"
          ]
        }
      ]
    },
    {
      "cell_type": "markdown",
      "source": [
        "\n",
        "\n",
        "> of the Skin Thickness column:\n",
        "\n"
      ],
      "metadata": {
        "id": "puVDnORy0x-z"
      }
    },
    {
      "cell_type": "code",
      "source": [
        "mean = df_hcdiab['SkinThickness'].mean()\n",
        "median = df_hcdiab['SkinThickness'].median()\n",
        "mode = df_hcdiab['SkinThickness'].mode().iloc[0]"
      ],
      "metadata": {
        "id": "uH86-9yf023D"
      },
      "execution_count": 27,
      "outputs": []
    },
    {
      "cell_type": "markdown",
      "source": [
        "Depicting results in a simple form of the Blood Pressure levels column:"
      ],
      "metadata": {
        "id": "H4RC51dW1E6A"
      }
    },
    {
      "cell_type": "code",
      "source": [
        "print(\"Mean of Skinthick. =\", mean)\n",
        "print(\"Median of Skinthick. =\", median)\n",
        "print(\"Mode of Skinthick. =\", mode)"
      ],
      "metadata": {
        "colab": {
          "base_uri": "https://localhost:8080/"
        },
        "id": "TGJNeVR407IN",
        "outputId": "ea67633d-26f9-415d-b761-1f019e7f29e6"
      },
      "execution_count": 28,
      "outputs": [
        {
          "output_type": "stream",
          "name": "stdout",
          "text": [
            "Mean of Skinthick. = 20.82442196531792\n",
            "Median of Skinthick. = 23.0\n",
            "Mode of Skinthick. = 0\n"
          ]
        }
      ]
    },
    {
      "cell_type": "markdown",
      "source": [
        "\n",
        "\n",
        "> of the Insulin levels column:\n",
        "\n",
        "\n",
        "\n"
      ],
      "metadata": {
        "id": "pfMP4txh27qY"
      }
    },
    {
      "cell_type": "code",
      "source": [
        "mean = df_hcdiab['Insulin'].mean()\n",
        "median = df_hcdiab['Insulin'].median()\n",
        "mode = df_hcdiab['Insulin'].mode().iloc[0]"
      ],
      "metadata": {
        "id": "x6KAN7-327Se"
      },
      "execution_count": 29,
      "outputs": []
    },
    {
      "cell_type": "markdown",
      "source": [
        "Depicting results in a simple form of the Insulin levels column:"
      ],
      "metadata": {
        "id": "jlIm_W323GEE"
      }
    },
    {
      "cell_type": "code",
      "source": [
        "print(\"Mean of Insulin =\", mean)\n",
        "print(\"Median of Insulin =\", median)\n",
        "print(\"Mode of Insulin =\", mode)"
      ],
      "metadata": {
        "colab": {
          "base_uri": "https://localhost:8080/"
        },
        "id": "3Q2CgwgC3Ymx",
        "outputId": "e813ef0a-12da-4faa-f21f-5b50d42c6157"
      },
      "execution_count": 30,
      "outputs": [
        {
          "output_type": "stream",
          "name": "stdout",
          "text": [
            "Mean of Insulin = 80.1278901734104\n",
            "Median of Insulin = 37.0\n",
            "Mode of Insulin = 0\n"
          ]
        }
      ]
    },
    {
      "cell_type": "markdown",
      "source": [
        "\n",
        "\n",
        "> of the BMI column:\n",
        "\n",
        "\n",
        "\n"
      ],
      "metadata": {
        "id": "vtfrwahi3fKk"
      }
    },
    {
      "cell_type": "code",
      "source": [
        "mean = df_hcdiab['BMI'].mean()\n",
        "median = df_hcdiab['BMI'].median()\n",
        "mode = df_hcdiab['BMI'].mode().iloc[0]"
      ],
      "metadata": {
        "id": "rprQ40I43jCP"
      },
      "execution_count": 31,
      "outputs": []
    },
    {
      "cell_type": "markdown",
      "source": [
        "Depicting results in a simple form of the BMI column:"
      ],
      "metadata": {
        "id": "2io4VBdw3mvc"
      }
    },
    {
      "cell_type": "code",
      "source": [
        "print(\"Mean of BMI =\", mean)\n",
        "print(\"Median of BMI =\", median)\n",
        "print(\"Mode of BMI =\", mode)"
      ],
      "metadata": {
        "colab": {
          "base_uri": "https://localhost:8080/"
        },
        "id": "M4iAAgjY3mhr",
        "outputId": "cf45d672-9f88-4055-acad-82cbda47837f"
      },
      "execution_count": 32,
      "outputs": [
        {
          "output_type": "stream",
          "name": "stdout",
          "text": [
            "Mean of BMI = 32.13739161849711\n",
            "Median of BMI = 32.2\n",
            "Mode of BMI = 32.0\n"
          ]
        }
      ]
    },
    {
      "cell_type": "markdown",
      "source": [
        "\n",
        "\n",
        "> of the Diabetes Pedigree Fx column:\n",
        "\n"
      ],
      "metadata": {
        "id": "BsNLlkDK3t7g"
      }
    },
    {
      "cell_type": "code",
      "source": [
        "mean = df_hcdiab['DiabetesPedigreeFunction'].mean()\n",
        "median = df_hcdiab['DiabetesPedigreeFunction'].median()\n",
        "mode = df_hcdiab['DiabetesPedigreeFunction'].mode().iloc[0]"
      ],
      "metadata": {
        "id": "N9MBAdud3yTh"
      },
      "execution_count": 33,
      "outputs": []
    },
    {
      "cell_type": "markdown",
      "source": [
        "Depicting results in a simple form of the Diabetes Pedigree Function column:"
      ],
      "metadata": {
        "id": "Vy9-Q3ar361F"
      }
    },
    {
      "cell_type": "code",
      "source": [
        "print(\"Mean of Diabetes Ped. Fx =\", mean)\n",
        "print(\"Median of Diabetes Ped. Fx =\", median)\n",
        "print(\"Mode of Diabetes Ped. Fx =\", mode)"
      ],
      "metadata": {
        "colab": {
          "base_uri": "https://localhost:8080/"
        },
        "id": "_9SOnWDV3_Bf",
        "outputId": "f0d19243-30e6-492f-abf1-81ce4d0aaa06"
      },
      "execution_count": 34,
      "outputs": [
        {
          "output_type": "stream",
          "name": "stdout",
          "text": [
            "Mean of Diabetes Ped. Fx = 0.4711925578034682\n",
            "Median of Diabetes Ped. Fx = 0.375\n",
            "Mode of Diabetes Ped. Fx = 0.258\n"
          ]
        }
      ]
    },
    {
      "cell_type": "markdown",
      "source": [
        "\n",
        "\n",
        "> of the Age column:\n",
        "\n"
      ],
      "metadata": {
        "id": "TI8HkLvC4F5f"
      }
    },
    {
      "cell_type": "code",
      "source": [
        "mean = df_hcdiab['Age'].mean()\n",
        "median = df_hcdiab['Age'].median()\n",
        "mode = df_hcdiab['Age'].mode().iloc[0]"
      ],
      "metadata": {
        "id": "-UFz0XbO4JdF"
      },
      "execution_count": 35,
      "outputs": []
    },
    {
      "cell_type": "markdown",
      "source": [
        "Depicting results in a simple form of the Age column:"
      ],
      "metadata": {
        "id": "zaJ1UTNK4NJH"
      }
    },
    {
      "cell_type": "code",
      "source": [
        "print(\"Mean Age =\", mean)\n",
        "print(\"Median Age =\", median)\n",
        "print(\"Mode Age =\", mode)"
      ],
      "metadata": {
        "colab": {
          "base_uri": "https://localhost:8080/"
        },
        "id": "WWvdt9d24ay-",
        "outputId": "51de6ded-1698-40b7-a825-ad96f5b4190f"
      },
      "execution_count": 37,
      "outputs": [
        {
          "output_type": "stream",
          "name": "stdout",
          "text": [
            "Mean Age = 33.13222543352601\n",
            "Median Age = 29.0\n",
            "Mode Age = 22\n"
          ]
        }
      ]
    },
    {
      "cell_type": "markdown",
      "source": [
        "\n",
        "\n",
        "> of the Outcome (whether diabetes was present or not: *1 indicating present, 0 indicating absense*)\n",
        "\n"
      ],
      "metadata": {
        "id": "pWx4fDoT4k_2"
      }
    },
    {
      "cell_type": "code",
      "source": [
        "mean = df_hcdiab['Outcome'].mean()\n",
        "median = df_hcdiab['Outcome'].median()\n",
        "mode = df_hcdiab['Outcome'].mode().iloc[0]"
      ],
      "metadata": {
        "id": "39bPmrot43cd"
      },
      "execution_count": 38,
      "outputs": []
    },
    {
      "cell_type": "markdown",
      "source": [
        "Depicting results in a simple form of the Outcome column:"
      ],
      "metadata": {
        "id": "iU6PgjKA44h7"
      }
    },
    {
      "cell_type": "code",
      "source": [
        "print(\"Mean Outcome =\", mean)\n",
        "print(\"Median Outcomes =\", median)\n",
        "print(\"Mode of Outcomes =\", mode)"
      ],
      "metadata": {
        "colab": {
          "base_uri": "https://localhost:8080/"
        },
        "id": "DYXPRiz-48eC",
        "outputId": "9ef89454-ece6-447f-b279-b19f58d5db79"
      },
      "execution_count": 41,
      "outputs": [
        {
          "output_type": "stream",
          "name": "stdout",
          "text": [
            "Mean Outcome = 0.3439306358381503\n",
            "Median Outcomes = 0.0\n",
            "Mode of Outcomes = 0\n"
          ]
        }
      ]
    },
    {
      "cell_type": "markdown",
      "source": [
        "Since above the mean outcome (that was on a scale of 1-0 [presence and absence of diabetes]) we can infer that the probability of presence was around 35%."
      ],
      "metadata": {
        "id": "NIJkKV7u5Ito"
      }
    },
    {
      "cell_type": "markdown",
      "source": [
        "### Calculating measures of spread: range, variance, standard deviation, IQR\n",
        "\n",
        "\n"
      ],
      "metadata": {
        "id": "qYEU-PNL6n7J"
      }
    },
    {
      "cell_type": "markdown",
      "source": [
        "\n",
        "\n",
        "> Calculating the Ranges of each column:\n",
        "\n"
      ],
      "metadata": {
        "id": "yFG2I4uTLThQ"
      }
    },
    {
      "cell_type": "code",
      "source": [
        "range_value = df_hcdiab.max() - df_hcdiab.min()"
      ],
      "metadata": {
        "id": "vbEITUw-6rQ2"
      },
      "execution_count": 42,
      "outputs": []
    },
    {
      "cell_type": "code",
      "source": [
        "print(range_value)"
      ],
      "metadata": {
        "colab": {
          "base_uri": "https://localhost:8080/"
        },
        "id": "Feg70J2CAD9S",
        "outputId": "3ef6d9e4-2db4-44f6-f044-58ed88c537c6"
      },
      "execution_count": 46,
      "outputs": [
        {
          "output_type": "stream",
          "name": "stdout",
          "text": [
            "Id                          2767.000\n",
            "Pregnancies                   17.000\n",
            "Glucose                      199.000\n",
            "BloodPressure                122.000\n",
            "SkinThickness                110.000\n",
            "Insulin                      846.000\n",
            "BMI                           80.600\n",
            "DiabetesPedigreeFunction       2.342\n",
            "Age                           60.000\n",
            "Outcome                        1.000\n",
            "dtype: float64\n"
          ]
        }
      ]
    },
    {
      "cell_type": "markdown",
      "source": [
        "\n",
        "\n",
        "> Calculating the Variance of each column:\n",
        "\n"
      ],
      "metadata": {
        "id": "Kcrc5KXOLZT0"
      }
    },
    {
      "cell_type": "code",
      "source": [
        "variance = df_hcdiab.var()"
      ],
      "metadata": {
        "id": "kKg3dkvD7Ro7"
      },
      "execution_count": 45,
      "outputs": []
    },
    {
      "cell_type": "code",
      "source": [
        "print(variance)"
      ],
      "metadata": {
        "colab": {
          "base_uri": "https://localhost:8080/"
        },
        "id": "0WHYgdqNAGtY",
        "outputId": "a0d18d39-2158-4972-e944-2d1ee952f3f6"
      },
      "execution_count": 47,
      "outputs": [
        {
          "output_type": "stream",
          "name": "stdout",
          "text": [
            "Id                          638716.000000\n",
            "Pregnancies                     11.047653\n",
            "Glucose                       1026.337861\n",
            "BloodPressure                  369.848213\n",
            "SkinThickness                  257.910614\n",
            "Insulin                      12611.724151\n",
            "BMI                             65.223831\n",
            "DiabetesPedigreeFunction         0.106060\n",
            "Age                            138.703146\n",
            "Outcome                          0.225724\n",
            "dtype: float64\n"
          ]
        }
      ]
    },
    {
      "cell_type": "markdown",
      "source": [
        "\n",
        "\n",
        "> Calculating the Standard Deviation of each column:\n",
        "\n"
      ],
      "metadata": {
        "id": "0QyhE671Lcv4"
      }
    },
    {
      "cell_type": "code",
      "source": [
        "std_deviation = df_hcdiab.std()"
      ],
      "metadata": {
        "id": "QcEPjAHXACgB"
      },
      "execution_count": 48,
      "outputs": []
    },
    {
      "cell_type": "code",
      "source": [
        "print(std_deviation)"
      ],
      "metadata": {
        "colab": {
          "base_uri": "https://localhost:8080/"
        },
        "id": "8IRFF4C_ARaz",
        "outputId": "594f4f62-2221-4d29-a9c6-87008fc3b4fb"
      },
      "execution_count": 49,
      "outputs": [
        {
          "output_type": "stream",
          "name": "stdout",
          "text": [
            "Id                          799.197097\n",
            "Pregnancies                   3.323801\n",
            "Glucose                      32.036508\n",
            "BloodPressure                19.231438\n",
            "SkinThickness                16.059596\n",
            "Insulin                     112.301933\n",
            "BMI                           8.076127\n",
            "DiabetesPedigreeFunction      0.325669\n",
            "Age                          11.777230\n",
            "Outcome                       0.475104\n",
            "dtype: float64\n"
          ]
        }
      ]
    },
    {
      "cell_type": "code",
      "source": [
        "iqr= df_hcdiab.quantile(0.75) - df_hcdiab.quantile(0.25)"
      ],
      "metadata": {
        "id": "Rftb2e7zAclo"
      },
      "execution_count": 50,
      "outputs": []
    },
    {
      "cell_type": "code",
      "source": [
        "print(iqr)"
      ],
      "metadata": {
        "colab": {
          "base_uri": "https://localhost:8080/"
        },
        "id": "hJ-ijUZsAdxv",
        "outputId": "18d52980-ba34-4119-8326-620dbd4d58c1"
      },
      "execution_count": 51,
      "outputs": [
        {
          "output_type": "stream",
          "name": "stdout",
          "text": [
            "Id                          1383.500\n",
            "Pregnancies                    5.000\n",
            "Glucose                       42.000\n",
            "BloodPressure                 18.000\n",
            "SkinThickness                 32.000\n",
            "Insulin                      130.000\n",
            "BMI                            9.325\n",
            "DiabetesPedigreeFunction       0.380\n",
            "Age                           16.000\n",
            "Outcome                        1.000\n",
            "dtype: float64\n"
          ]
        }
      ]
    }
  ]
}